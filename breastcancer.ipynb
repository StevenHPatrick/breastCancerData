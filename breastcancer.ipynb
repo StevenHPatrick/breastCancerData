{
 "cells": [
  {
   "cell_type": "code",
   "execution_count": 1,
   "metadata": {
    "id": "M2QsNzU4oInH"
   },
   "outputs": [
    {
     "name": "stderr",
     "output_type": "stream",
     "text": [
      "2023-12-05 14:48:06.984336: I tensorflow/core/platform/cpu_feature_guard.cc:182] This TensorFlow binary is optimized to use available CPU instructions in performance-critical operations.\n",
      "To enable the following instructions: SSE4.1 SSE4.2 AVX AVX2 FMA, in other operations, rebuild TensorFlow with the appropriate compiler flags.\n"
     ]
    }
   ],
   "source": [
    "import pandas as pd\n",
    "import numpy as np\n",
    "import tensorflow as tf\n",
    "import matplotlib.pyplot as plt\n",
    "import nltk\n",
    "import pathlib\n",
    "from tensorflow import keras\n",
    "from tensorflow.keras import preprocessing\n",
    "from tensorflow.keras import models, layers\n",
    "from sklearn.model_selection import train_test_split\n",
    "from sklearn.feature_extraction.text import CountVectorizer\n",
    "import glob\n",
    "from glob import glob\n",
    "import os\n",
    "from os import listdir\n",
    "import requests\n",
    "from zipfile import ZipFile\n",
    "import keras.utils as image\n",
    "\n",
    "import plotly.express as px\n",
    "import seaborn as sns\n",
    "import PIL\n",
    "import random\n",
    "\n",
    "random.seed(0)\n",
    "import cv2\n",
    "from matplotlib.image import imread\n",
    "\n",
    "from IPython.display import display, Image"
   ]
  },
  {
   "cell_type": "code",
   "execution_count": null,
   "metadata": {
    "colab": {
     "base_uri": "https://localhost:8080/",
     "height": 167
    },
    "id": "DdaE7TyBuz3Y",
    "outputId": "ad663c16-31f6-4b21-a612-787ac64310b8"
   },
   "outputs": [],
   "source": [
    "#Got this from ChatGPT\n",
    "\n",
    "\n",
    "# Define the GitHub repository URL\n",
    "repo_url = 'https://github.com/StevenHPatrick/breastCancerData/archive/94de9300f0851b14430654cd36089af864e6017b.zip'\n",
    "\n",
    "# Specify the local path to save the downloaded file\n",
    "zip_file_path = '/content/breast_cancer_data.zip'\n",
    "\n",
    "# Download the dataset from GitHub\n",
    "response = requests.get(repo_url)\n",
    "with open(zip_file_path, 'wb') as zip_file:\n",
    "    zip_file.write(response.content)\n",
    "\n",
    "# Extract the contents of the ZIP file\n",
    "extracted_path = '/content/breastCancerData-94de9300f0851b14430654cd36089af864e6017b'\n",
    "with ZipFile(zip_file_path, 'r') as zip_ref:\n",
    "    zip_ref.extractall(extracted_path)\n",
    "\n",
    "# Adjust the path to include the additional subdirectory\n",
    "dataset_path = os.path.join(extracted_path, 'breastCancerData-94de9300f0851b14430654cd36089af864e6017b')\n",
    "\n",
    "\n",
    "breast_img = glob(os.path.join(dataset_path, 'archive/IDC_regular_ps50_idx5/**/*.png'), recursive=True)\n",
    "\n",
    "# Display the first 3 images\n",
    "for img_path in breast_img[:3]:\n",
    "    display(Image(filename=img_path))\n"
   ]
  },
  {
   "cell_type": "code",
   "execution_count": null,
   "metadata": {
    "colab": {
     "base_uri": "https://localhost:8080/",
     "height": 53
    },
    "id": "Z0l3oIx626Z-",
    "outputId": "3ed69712-9387-40b2-8296-43746bfdaebf"
   },
   "outputs": [],
   "source": [
    "non_img = []\n",
    "can_img = []\n",
    "\n",
    "for img in breast_img:\n",
    "    if img[-5] == '0' :\n",
    "        non_img.append(img)\n",
    "\n",
    "    elif img[-5] == '1' :\n",
    "        can_img.append(img)\n",
    "breast_img[0]"
   ]
  },
  {
   "cell_type": "code",
   "execution_count": null,
   "metadata": {
    "colab": {
     "base_uri": "https://localhost:8080/"
    },
    "id": "1y5C74Nr3DsF",
    "outputId": "b2b815cb-4283-4abc-dda1-4b01a3ec525e"
   },
   "outputs": [],
   "source": [
    "non_num = len(non_img)\n",
    "can_num = len(can_img)\n",
    "\n",
    "total_img_num = non_num + can_num\n",
    "\n",
    "print('Number of Images in IDC (-): {}' .format(non_num))\n",
    "print('Number of Images in IDC (+) : {}' .format(can_num))\n",
    "print('Total Number of Images : {}' .format(total_img_num))"
   ]
  },
  {
   "cell_type": "code",
   "execution_count": null,
   "metadata": {
    "colab": {
     "base_uri": "https://localhost:8080/",
     "height": 988
    },
    "id": "PdUUkxtA4AXz",
    "outputId": "5609a0bc-5fda-4514-dd73-3d6ec784d2af"
   },
   "outputs": [],
   "source": [
    "plt.figure(figsize = (15, 15))\n",
    "\n",
    "some_non = np.random.randint(0, len(non_img), 18)\n",
    "some_can = np.random.randint(0, len(can_img), 18)\n",
    "\n",
    "s = 0\n",
    "for num in some_non:\n",
    "\n",
    "        img = image.load_img((non_img[num]), target_size=(100, 100))\n",
    "        img = image.img_to_array(img)\n",
    "\n",
    "        plt.subplot(6, 6, 2*s+1)\n",
    "        plt.axis('off')\n",
    "        plt.title('No cancer')\n",
    "        plt.imshow(img.astype('uint8'))\n",
    "        s += 1\n",
    "s = 1\n",
    "for num in some_can:\n",
    "         img = image.load_img((can_img[num]), target_size=(100, 100))\n",
    "         img = image.img_to_array(img)\n",
    "         plt.subplot(6, 6, 2*s)\n",
    "         plt.axis('off')\n",
    "         plt.title('Cancer')\n",
    "         plt.imshow(img.astype('uint8'))\n",
    "         s += 1"
   ]
  },
  {
   "cell_type": "code",
   "execution_count": null,
   "metadata": {
    "colab": {
     "base_uri": "https://localhost:8080/"
    },
    "id": "HXG4skAE5qkk",
    "outputId": "0ac59fa6-77d9-4721-8819-81d1c32c9c08"
   },
   "outputs": [],
   "source": [
    "non_cancer_num = len(non_img)  # No cancer\n",
    "cancer_num = len(can_img)   # Cancer\n",
    "\n",
    "total_img_num = non_cancer_num + cancer_num\n",
    "\n",
    "print('Number of Images of no cancer: {}' .format(non_cancer_num))   # images of Non cancer\n",
    "print('Number of Images of cancer : {}' .format(cancer_num))   # images of cancer\n",
    "print('Total Number of Images : {}' .format(total_img_num))"
   ]
  },
  {
   "cell_type": "markdown",
   "metadata": {
    "id": "pwSzRUoC7nNc"
   },
   "source": [
    "Data Preprocessing"
   ]
  },
  {
   "cell_type": "code",
   "execution_count": null,
   "metadata": {
    "id": "OJmNEA5R6j76"
   },
   "outputs": [],
   "source": [
    "# Randomly sample images from two lists, 'non_cancer_imgs' and 'cancer_imgs'\n",
    "some_non_img = random.sample(non_img, len(non_img))\n",
    "some_can_img = random.sample(can_img, len(can_img))\n",
    "\n",
    "# Initialize empty arrays to store image data and labels\n",
    "non_img_arr = []  # Array for non-cancer images\n",
    "can_img_arr = []  # Array for cancer images\n",
    "\n",
    "# Loop through each image in the 'some_non_img' list\n",
    "for img in some_non_img:\n",
    "    # Read the image in color mode\n",
    "    n_img = cv2.imread(img, cv2.IMREAD_COLOR)\n",
    "    # Resize the image to a fixed size (50x50 pixels) using linear interpolation\n",
    "    n_img_size = cv2.resize(n_img, (50, 50), interpolation=cv2.INTER_LINEAR)\n",
    "    # Append the resized image and label 0 (indicating non-cancer) to the 'non_img_arr'\n",
    "    non_img_arr.append([n_img_size, 0])\n",
    "\n",
    "    # Loop through each image in the 'some_can_img' list\n",
    "for img in some_can_img:\n",
    "    # Read the image in color mode\n",
    "    c_img = cv2.imread(img, cv2.IMREAD_COLOR)\n",
    "    # Resize the image to a fixed size (50x50 pixels) using linear interpolation\n",
    "    c_img_size = cv2.resize(c_img, (50, 50), interpolation=cv2.INTER_LINEAR)\n",
    "    # Append the resized image and label 1 (indicating cancer) to the 'can_img_arr'\n",
    "    can_img_arr.append([c_img_size, 1])"
   ]
  }
 ],
 "metadata": {
  "accelerator": "GPU",
  "colab": {
   "gpuType": "V100",
   "machine_shape": "hm",
   "provenance": []
  },
  "kernelspec": {
   "display_name": "Python 3 (ipykernel)",
   "language": "python",
   "name": "python3"
  },
  "language_info": {
   "codemirror_mode": {
    "name": "ipython",
    "version": 3
   },
   "file_extension": ".py",
   "mimetype": "text/x-python",
   "name": "python",
   "nbconvert_exporter": "python",
   "pygments_lexer": "ipython3",
   "version": "3.11.5"
  }
 },
 "nbformat": 4,
 "nbformat_minor": 4
}
